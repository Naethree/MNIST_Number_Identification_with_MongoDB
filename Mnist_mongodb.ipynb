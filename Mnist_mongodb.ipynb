{
  "nbformat": 4,
  "nbformat_minor": 0,
  "metadata": {
    "colab": {
      "provenance": []
    },
    "kernelspec": {
      "name": "python3",
      "display_name": "Python 3"
    },
    "language_info": {
      "name": "python"
    }
  },
  "cells": [
    {
      "cell_type": "code",
      "execution_count": null,
      "metadata": {
        "colab": {
          "base_uri": "https://localhost:8080/"
        },
        "id": "ua64nVsq06w3",
        "outputId": "e7d2dbf4-3bb7-4a7d-a13d-76fd021ce397"
      },
      "outputs": [
        {
          "output_type": "stream",
          "name": "stdout",
          "text": [
            "Requirement already satisfied: pymongo in /usr/local/lib/python3.10/dist-packages (4.8.0)\n",
            "Requirement already satisfied: dnspython<3.0.0,>=1.16.0 in /usr/local/lib/python3.10/dist-packages (from pymongo) (2.6.1)\n"
          ]
        }
      ],
      "source": [
        "!pip install pymongo"
      ]
    },
    {
      "cell_type": "code",
      "source": [
        "!pip install \"pymongo[srv]\""
      ],
      "metadata": {
        "colab": {
          "base_uri": "https://localhost:8080/"
        },
        "id": "2dvxPV4J52M7",
        "outputId": "9317295d-1b65-4b3a-c9e0-d8357db4ba4e"
      },
      "execution_count": null,
      "outputs": [
        {
          "output_type": "stream",
          "name": "stdout",
          "text": [
            "Requirement already satisfied: pymongo[srv] in /usr/local/lib/python3.10/dist-packages (4.8.0)\n",
            "\u001b[33mWARNING: pymongo 4.8.0 does not provide the extra 'srv'\u001b[0m\u001b[33m\n",
            "\u001b[0mRequirement already satisfied: dnspython<3.0.0,>=1.16.0 in /usr/local/lib/python3.10/dist-packages (from pymongo[srv]) (2.6.1)\n"
          ]
        }
      ]
    },
    {
      "cell_type": "code",
      "source": [
        "import pymongo\n",
        "from pymongo import MongoClient\n",
        "import tensorflow as tf\n",
        "import numpy as np\n",
        "import matplotlib.pyplot as plt"
      ],
      "metadata": {
        "id": "ry6bRxYp09ke"
      },
      "execution_count": null,
      "outputs": []
    },
    {
      "cell_type": "code",
      "source": [
        "#CONNECTION_STRING =  enter your connection\n",
        "\n",
        "\n",
        "client = MongoClient(CONNECTION_STRING)"
      ],
      "metadata": {
        "id": "3fiVkvgF09nL"
      },
      "execution_count": null,
      "outputs": []
    },
    {
      "cell_type": "code",
      "source": [
        "# Create a new database called 'mnist_database'\n",
        "db = client['mnistdata']\n",
        "\n",
        "# Create a new collection called 'mnist_collection'\n",
        "collection = db['mnistcluster']"
      ],
      "metadata": {
        "id": "BM7PNiPz09pi"
      },
      "execution_count": null,
      "outputs": []
    },
    {
      "cell_type": "code",
      "source": [
        "from PIL import Image\n",
        "import io\n",
        "import numpy as np\n",
        "\n",
        "# Load the MNIST dataset from TensorFlow\n",
        "mnist = tf.keras.datasets.mnist\n",
        "(train_images, train_labels), (test_images, test_labels) = mnist.load_data()\n",
        "\n",
        "# Function to convert a NumPy array image to binary\n",
        "def array_to_binary(image_array):\n",
        "    # Convert 2D image array to 3D by adding a single channel dimension\n",
        "    image_array = np.expand_dims(image_array, axis=-1)\n",
        "\n",
        "    # Ensure the array is in the range 0-255 and is of type uint8\n",
        "    image_array = np.clip(image_array, 0, 255).astype(np.uint8)\n",
        "\n",
        "    # Convert the NumPy array to a PIL Image\n",
        "    image_pil = Image.fromarray(image_array.squeeze(), mode='L')\n",
        "\n",
        "    # Save the PIL Image to a binary stream\n",
        "    with io.BytesIO() as buf:\n",
        "        image_pil.save(buf, format='PNG')\n",
        "        return buf.getvalue()\n",
        "\n",
        "batch_size = 1000\n",
        "batch = []\n",
        "\n",
        "for i in range(len(train_images)):\n",
        "    binary_image = array_to_binary(train_images[i])\n",
        "    image_document = {\n",
        "        'label': int(train_labels[i]),\n",
        "        'image': binary_image\n",
        "    }\n",
        "    batch.append(image_document)\n",
        "\n",
        "    if len(batch) == batch_size:\n",
        "        collection.insert_many(batch)\n",
        "        batch = []\n",
        "\n",
        "# Insert any remaining documents\n",
        "if batch:\n",
        "    collection.insert_many(batch)\n",
        "\n",
        "print(\"MNIST images and labels uploaded successfully!\")\n"
      ],
      "metadata": {
        "id": "4G2wFIyb09sM",
        "colab": {
          "base_uri": "https://localhost:8080/"
        },
        "outputId": "35fa4db7-041b-4f8c-917c-8ebc5223f393"
      },
      "execution_count": null,
      "outputs": [
        {
          "output_type": "stream",
          "name": "stdout",
          "text": [
            "Downloading data from https://storage.googleapis.com/tensorflow/tf-keras-datasets/mnist.npz\n",
            "11490434/11490434 [==============================] - 0s 0us/step\n",
            "MNIST images and labels uploaded successfully!\n"
          ]
        }
      ]
    },
    {
      "cell_type": "code",
      "source": [
        "# Count the number of documents in the collection\n",
        "document_count = collection.count_documents({})\n",
        "print(f\"Number of documents in the collection: {document_count}\")\n"
      ],
      "metadata": {
        "id": "xMunkSwS09vw",
        "colab": {
          "base_uri": "https://localhost:8080/"
        },
        "outputId": "e3bdf2d2-6d55-4354-d3f7-7775474e455a"
      },
      "execution_count": null,
      "outputs": [
        {
          "output_type": "stream",
          "name": "stdout",
          "text": [
            "Number of documents in the collection: 63237\n"
          ]
        }
      ]
    },
    {
      "cell_type": "code",
      "source": [
        "from PIL import Image\n",
        "import io\n",
        "import numpy as np\n",
        "import matplotlib.pyplot as plt\n",
        "\n",
        "# Retrieve a sample document\n",
        "sample_document = collection.find_one()\n",
        "\n",
        "# Extract the binary image data and label\n",
        "binary_image = sample_document['image']\n",
        "label = sample_document['label']\n",
        "\n",
        "# Convert binary image back to PIL Image\n",
        "image_pil = Image.open(io.BytesIO(binary_image))\n",
        "\n",
        "# Display the image and label\n",
        "plt.imshow(image_pil, cmap='gray')\n",
        "plt.title(f\"Label: {label}\")\n",
        "plt.axis('off')\n",
        "plt.show()"
      ],
      "metadata": {
        "colab": {
          "base_uri": "https://localhost:8080/",
          "height": 428
        },
        "id": "fiMdY7mR93Dk",
        "outputId": "d6bc079a-9c6f-48db-fddf-33c1d22b7015"
      },
      "execution_count": null,
      "outputs": [
        {
          "output_type": "display_data",
          "data": {
            "text/plain": [
              "<Figure size 640x480 with 1 Axes>"
            ],
            "image/png": "[encoded data removed]"
          },
          "metadata": {}
        }
      ]
    },
    {
      "cell_type": "code",
      "source": [
        "import tensorflow as tf\n",
        "from tensorflow.keras.datasets import mnist\n",
        "from tensorflow.keras.models import Sequential\n",
        "from tensorflow.keras.layers import Dense, Flatten\n",
        "from tensorflow.keras.utils import to_categorical"
      ],
      "metadata": {
        "id": "v_Yjx8pN95Ma"
      },
      "execution_count": null,
      "outputs": []
    },
    {
      "cell_type": "code",
      "source": [
        "# Load the MNIST dataset\n",
        "(train_images, train_labels), (test_images, test_labels) = mnist.load_data()\n",
        "\n",
        "# Normalize the images to the range [0, 1]\n",
        "train_images = train_images / 255.0\n",
        "test_images = test_images / 255.0\n",
        "\n",
        "# Convert labels to one-hot encoding\n",
        "train_labels = to_categorical(train_labels)\n",
        "test_labels = to_categorical(test_labels)\n"
      ],
      "metadata": {
        "id": "_2qfo8Lh-E_t"
      },
      "execution_count": null,
      "outputs": []
    },
    {
      "cell_type": "code",
      "source": [
        "model = Sequential([\n",
        "    Flatten(input_shape=(28, 28)),  # Flatten the input images\n",
        "    Dense(128, activation='relu'),  # Fully connected layer with ReLU activation\n",
        "    Dense(10, activation='softmax')  # Output layer with 10 classes (digits 0-9)\n",
        "])\n",
        "\n",
        "# Compile the model\n",
        "model.compile(optimizer='adam',\n",
        "              loss='categorical_crossentropy',\n",
        "              metrics=['accuracy'])"
      ],
      "metadata": {
        "id": "w9SrC_7u-FHC"
      },
      "execution_count": null,
      "outputs": []
    },
    {
      "cell_type": "code",
      "source": [
        "history = model.fit(train_images, train_labels,\n",
        "                    epochs=5,\n",
        "                    batch_size=32,\n",
        "                    validation_split=0.2)"
      ],
      "metadata": {
        "colab": {
          "base_uri": "https://localhost:8080/"
        },
        "id": "ef6oQ8ig-NAS",
        "outputId": "485733cb-ad3e-40d5-a097-b4c7ddf96ddd"
      },
      "execution_count": null,
      "outputs": [
        {
          "output_type": "stream",
          "name": "stdout",
          "text": [
            "Epoch 1/5\n",
            "1500/1500 [==============================] - 8s 5ms/step - loss: 0.2902 - accuracy: 0.9173 - val_loss: 0.1611 - val_accuracy: 0.9539\n",
            "Epoch 2/5\n",
            "1500/1500 [==============================] - 6s 4ms/step - loss: 0.1324 - accuracy: 0.9613 - val_loss: 0.1167 - val_accuracy: 0.9658\n",
            "Epoch 3/5\n",
            "1500/1500 [==============================] - 7s 5ms/step - loss: 0.0903 - accuracy: 0.9722 - val_loss: 0.1050 - val_accuracy: 0.9707\n",
            "Epoch 4/5\n",
            "1500/1500 [==============================] - 10s 7ms/step - loss: 0.0676 - accuracy: 0.9792 - val_loss: 0.0957 - val_accuracy: 0.9733\n",
            "Epoch 5/5\n",
            "1500/1500 [==============================] - 6s 4ms/step - loss: 0.0514 - accuracy: 0.9841 - val_loss: 0.0972 - val_accuracy: 0.9697\n"
          ]
        }
      ]
    },
    {
      "cell_type": "code",
      "source": [
        "test_loss, test_acc = model.evaluate(test_images, test_labels)\n",
        "print(f\"Test accuracy: {test_acc:.4f}\")"
      ],
      "metadata": {
        "colab": {
          "base_uri": "https://localhost:8080/"
        },
        "id": "NzA6DGcL-NCb",
        "outputId": "c21dbca9-87ab-423c-9085-dd56774190e8"
      },
      "execution_count": null,
      "outputs": [
        {
          "output_type": "stream",
          "name": "stdout",
          "text": [
            "313/313 [==============================] - 1s 3ms/step - loss: 0.0851 - accuracy: 0.9725\n",
            "Test accuracy: 0.9725\n"
          ]
        }
      ]
    },
    {
      "cell_type": "code",
      "source": [
        "import matplotlib.pyplot as plt\n",
        "\n",
        "# Make predictions\n",
        "predictions = model.predict(test_images)\n",
        "\n",
        "# Predict the label for the first image in the test set\n",
        "import numpy as np\n",
        "predicted_label = np.argmax(predictions[0])\n",
        "\n",
        "# Print the predicted label\n",
        "print(f\"Predicted label for the first test image: {predicted_label}\")\n",
        "\n",
        "# Plot the first test image\n",
        "plt.imshow(test_images[0], cmap='gray')\n",
        "plt.title(f\"Predicted label: {predicted_label}\")\n",
        "plt.axis('off')  # Hide the axis\n",
        "plt.show()\n"
      ],
      "metadata": {
        "colab": {
          "base_uri": "https://localhost:8080/",
          "height": 463
        },
        "id": "0fTK_Ghb-NGE",
        "outputId": "6cefc728-7a67-472a-d1e8-da2ed229a77c"
      },
      "execution_count": null,
      "outputs": [
        {
          "output_type": "stream",
          "name": "stdout",
          "text": [
            "313/313 [==============================] - 1s 4ms/step\n",
            "Predicted label for the first test image: 7\n"
          ]
        },
        {
          "output_type": "display_data",
          "data": {
            "text/plain": [
              "<Figure size 640x480 with 1 Axes>"
            ],
            "image/png": "[encoded data removed]"
          },
          "metadata": {}
        }
      ]
    },
    {
      "cell_type": "code",
      "source": [
        "import seaborn as sns\n",
        "from sklearn.metrics import confusion_matrix\n",
        "\n",
        "# Get predictions for the test set\n",
        "predicted_labels = np.argmax(predictions, axis=1)\n",
        "\n",
        "# Compute the confusion matrix\n",
        "cm = confusion_matrix(np.argmax(test_labels, axis=1), predicted_labels)\n",
        "\n",
        "# Plot the confusion matrix\n",
        "plt.figure(figsize=(10, 8))\n",
        "sns.heatmap(cm, annot=True, fmt='d', cmap='Blues', xticklabels=range(10), yticklabels=range(10))\n",
        "plt.xlabel('Predicted Label')\n",
        "plt.ylabel('True Label')\n",
        "plt.title('Confusion Matrix')\n",
        "plt.show()"
      ],
      "metadata": {
        "colab": {
          "base_uri": "https://localhost:8080/",
          "height": 718
        },
        "id": "iKo1PJ-1_Hyb",
        "outputId": "5014e72f-a102-4320-a4dc-84bad197fa7c"
      },
      "execution_count": null,
      "outputs": [
        {
          "output_type": "display_data",
          "data": {
            "text/plain": [
              "<Figure size 1000x800 with 2 Axes>"
            ],
            "image/png": "[encoded data removed]"
          },
          "metadata": {}
        }
      ]
    }
  ]
}